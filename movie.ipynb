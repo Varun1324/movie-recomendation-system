{
 "cells": [
  {
   "cell_type": "code",
   "execution_count": 5,
   "metadata": {},
   "outputs": [
    {
     "name": "stdout",
     "output_type": "stream",
     "text": [
      "Mean Squared Error: 0.07853600000000005\n",
      "Mean Absolute Error: 0.22300000000000003\n"
     ]
    }
   ],
   "source": [
    "import pandas as pd\n",
    "import numpy as np\n",
    "from sklearn.preprocessing import StandardScaler\n",
    "from sklearn.neighbors import NearestNeighbors\n",
    "from sklearn.model_selection import train_test_split\n",
    "from sklearn.metrics import mean_squared_error, mean_absolute_error\n",
    "\n",
    "data = pd.read_csv('imdb_top_1000.csv')\n",
    "data.columns = data.columns.str.strip()\n",
    "\n",
    "\n",
    "def convert_runtime(runtime_str):\n",
    "    try:\n",
    "        if pd.isnull(runtime_str):\n",
    "            return None\n",
    "        runtime = ''.join(filter(str.isdigit, runtime_str))\n",
    "        return int(runtime) if runtime else None\n",
    "    except ValueError:\n",
    "        return None\n",
    "\n",
    "data['Runtime'] = data['Runtime'].apply(convert_runtime)\n",
    "\n",
    "data.dropna(subset=['Runtime', 'Genre'], inplace=True)\n",
    "\n",
    "data['Genre'] = data['Genre'].str.split(', ')\n",
    "\n",
    "all_genres = set(g for sublist in data['Genre'] for g in sublist)\n",
    "genre_to_index = {genre: idx for idx, genre in enumerate(all_genres)}\n",
    "\n",
    "def encode_genres(genres):\n",
    "    encoded = np.zeros(len(all_genres))\n",
    "    for genre in genres:\n",
    "        if genre in genre_to_index:\n",
    "            encoded[genre_to_index[genre]] = 1\n",
    "    return encoded\n",
    "\n",
    "data['Genre_Encoding'] = data['Genre'].apply(encode_genres)\n",
    "\n",
    "\n",
    "data['Released_Year'] = pd.to_numeric(data['Released_Year'], errors='coerce')\n",
    "data = data.dropna(subset=['Released_Year']) \n",
    "\n",
    "X = np.hstack([\n",
    "    data[['Released_Year', 'Runtime']].values,\n",
    "    np.array(list(data['Genre_Encoding']))\n",
    "])\n",
    "\n",
    "y = data['IMDB_Rating'].values\n",
    "\n",
    "scaler = StandardScaler()\n",
    "X_scaled = scaler.fit_transform(X)\n",
    "\n",
    "X_train, X_test, y_train, y_test = train_test_split(X_scaled, y, test_size=0.2, random_state=42)\n",
    "\n",
    "knn = NearestNeighbors(n_neighbors=5, algorithm='auto')\n",
    "knn.fit(X_train)\n",
    "\n",
    "def get_nearest_neighbors_features(features, k=5):\n",
    "    distances, indices = knn.kneighbors(features, n_neighbors=k)\n",
    "    return indices\n",
    "\n",
    "def predict_movie_ratings(test_features, k=5):\n",
    "    predicted_ratings = []\n",
    "    for feature in test_features:\n",
    "        feature = feature.reshape(1, -1) \n",
    "        neighbors_indices = get_nearest_neighbors_features(feature, k)\n",
    "        neighbor_ratings = np.mean([y_train[indices] for indices in neighbors_indices], axis=0)\n",
    "        predicted_ratings.append(np.mean(neighbor_ratings))\n",
    "    return np.array(predicted_ratings)\n",
    "\n",
    "y_pred = predict_movie_ratings(X_test)\n",
    "\n",
    "mse = mean_squared_error(y_test, y_pred)\n",
    "mae = mean_absolute_error(y_test, y_pred)\n",
    "\n",
    "print(f\"Mean Squared Error: {mse}\")\n",
    "print(f\"Mean Absolute Error: {mae}\")\n",
    "\n",
    "\n",
    "def recommend_movie(user_input):\n",
    "    user_genres_encoded = encode_genres(user_input['genre'])\n",
    "    user_features = np.array([\n",
    "        user_input['year'],\n",
    "        user_input['runtime'],\n",
    "        *user_genres_encoded\n",
    "    ]).reshape(1, -1)\n",
    "\n",
    "    user_features_scaled = scaler.transform(user_features)\n",
    "\n",
    "    distances, indices = knn.kneighbors(user_features_scaled)\n",
    "\n",
    "    recommended_movies = data.iloc[indices[0]]\n",
    "    return recommended_movies[['Series_Title', 'IMDB_Rating','Certificate','Runtime']]\n"
   ]
  },
  {
   "cell_type": "code",
   "execution_count": 6,
   "metadata": {},
   "outputs": [
    {
     "name": "stdout",
     "output_type": "stream",
     "text": [
      "Recommended Movies:\n",
      "           Series_Title  IMDB_Rating Certificate  Runtime\n",
      "415                Jaws          8.0           A      124\n",
      "113  A Clockwork Orange          8.3           A      136\n",
      "269        Paris, Texas          8.1           U      145\n",
      "105        Idi i smotri          8.3           A      142\n",
      "547             Charade          7.9           U      113\n"
     ]
    }
   ],
   "source": [
    "user_input = {\n",
    "    'year': 2010,\n",
    "    'genre': ['Comedy', 'Drama', 'Family'],\n",
    "    'runtime': 120\n",
    "}\n",
    "\n",
    "recommended_movies = recommend_movie(user_input)\n",
    "print(\"Recommended Movies:\")\n",
    "print(recommended_movies)"
   ]
  },
  {
   "cell_type": "code",
   "execution_count": null,
   "metadata": {},
   "outputs": [],
   "source": []
  },
  {
   "cell_type": "code",
   "execution_count": null,
   "metadata": {},
   "outputs": [],
   "source": []
  }
 ],
 "metadata": {
  "kernelspec": {
   "display_name": "Python 3",
   "language": "python",
   "name": "python3"
  },
  "language_info": {
   "codemirror_mode": {
    "name": "ipython",
    "version": 3
   },
   "file_extension": ".py",
   "mimetype": "text/x-python",
   "name": "python",
   "nbconvert_exporter": "python",
   "pygments_lexer": "ipython3",
   "version": "3.12.1"
  }
 },
 "nbformat": 4,
 "nbformat_minor": 2
}
